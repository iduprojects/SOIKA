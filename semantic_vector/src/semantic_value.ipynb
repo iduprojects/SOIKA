{
  "nbformat": 4,
  "nbformat_minor": 0,
  "metadata": {
    "colab": {
      "provenance": []
    },
    "kernelspec": {
      "name": "python3",
      "display_name": "Python 3"
    },
    "language_info": {
      "name": "python"
    }
  },
  "cells": [
    {
      "cell_type": "code",
      "source": [
        "# Перед работой необходимо вручную скачать файлы:\n",
        "# total_reports.csv\n",
        "# posts_spb_today.csv\n",
        "# kg.graphml\n",
        "# Ссылка для скачивания файлов: https://drive.google.com/drive/folders/1iOtyu8P1eUTBTVvfyDK4dpTxQ4cuPmxR?usp=drive_link"
      ],
      "metadata": {
        "id": "GOTjbsFTQEhr"
      },
      "execution_count": null,
      "outputs": []
    },
    {
      "cell_type": "code",
      "source": [
        "!pip install nx"
      ],
      "metadata": {
        "colab": {
          "base_uri": "https://localhost:8080/"
        },
        "id": "Jemi0ooxB6ho",
        "outputId": "4e609a91-cb0d-457b-cbc4-18cf1d5912fc"
      },
      "execution_count": 1,
      "outputs": [
        {
          "output_type": "stream",
          "name": "stdout",
          "text": [
            "Collecting wget\n",
            "  Downloading wget-3.2.zip (10 kB)\n",
            "  Preparing metadata (setup.py) ... \u001b[?25l\u001b[?25hdone\n",
            "Building wheels for collected packages: wget\n",
            "  Building wheel for wget (setup.py) ... \u001b[?25l\u001b[?25hdone\n",
            "  Created wheel for wget: filename=wget-3.2-py3-none-any.whl size=9655 sha256=6b6326b60dab1a817c0aae9422e45702aaef0c10050e9b05edbaf22a9f64c853\n",
            "  Stored in directory: /root/.cache/pip/wheels/8b/f1/7f/5c94f0a7a505ca1c81cd1d9208ae2064675d97582078e6c769\n",
            "Successfully built wget\n",
            "Installing collected packages: wget\n",
            "Successfully installed wget-3.2\n"
          ]
        }
      ]
    },
    {
      "cell_type": "code",
      "execution_count": 2,
      "metadata": {
        "id": "E53FMT0HFx62",
        "colab": {
          "base_uri": "https://localhost:8080/"
        },
        "outputId": "bbc62b19-a37f-4b2b-c300-053b6197f285"
      },
      "outputs": [
        {
          "output_type": "stream",
          "name": "stderr",
          "text": [
            "[nltk_data] Downloading package punkt to /root/nltk_data...\n",
            "[nltk_data]   Unzipping tokenizers/punkt.zip.\n"
          ]
        },
        {
          "output_type": "execute_result",
          "data": {
            "text/plain": [
              "True"
            ]
          },
          "metadata": {},
          "execution_count": 2
        }
      ],
      "source": [
        "import csv\n",
        "import zipfile\n",
        "import re\n",
        "import gensim\n",
        "import logging\n",
        "import nltk.data\n",
        "import pandas as pd\n",
        "import numpy as np\n",
        "import networkx as nx\n",
        "import urllib.request\n",
        "from bs4 import BeautifulSoup\n",
        "from nltk.corpus import stopwords\n",
        "from gensim.models import word2vec\n",
        "from nltk.tokenize import sent_tokenize, RegexpTokenizer\n",
        "from string import ascii_letters as al\n",
        "nltk.download('punkt')"
      ]
    },
    {
      "cell_type": "code",
      "source": [
        "# Скачиваем модель\n",
        "urllib.request.urlretrieve(\"http://vectors.nlpl.eu/repository/20/220.zip\", '220.zip')"
      ],
      "metadata": {
        "colab": {
          "base_uri": "https://localhost:8080/"
        },
        "id": "rgZPEIweUdlF",
        "outputId": "d34924ee-ae76-42aa-87a3-bb91c1a92a48"
      },
      "execution_count": 3,
      "outputs": [
        {
          "output_type": "execute_result",
          "data": {
            "text/plain": [
              "('220.zip', <http.client.HTTPMessage at 0x7fb484c0ea10>)"
            ]
          },
          "metadata": {},
          "execution_count": 3
        }
      ]
    },
    {
      "cell_type": "code",
      "source": [
        "# Распаковываем модель\n",
        "with zipfile.ZipFile('220.zip', 'r') as zip_ref:\n",
        "    zip_ref.extract('model.bin', 'models')"
      ],
      "metadata": {
        "id": "AvQug0MKjuzw"
      },
      "execution_count": 4,
      "outputs": []
    },
    {
      "cell_type": "code",
      "source": [
        "# Открываем модель\n",
        "model_path = 'models/model.bin'\n",
        "\n",
        "model_ru = gensim.models.KeyedVectors.load_word2vec_format(model_path, binary=True)"
      ],
      "metadata": {
        "id": "bRyraGaQj8KU"
      },
      "execution_count": 5,
      "outputs": []
    },
    {
      "cell_type": "code",
      "source": [
        "# Тестируем модель\n",
        "words = ['день_NOUN', 'ночь_NOUN', 'человек_NOUN', 'семантика_NOUN', 'биткоин_NOUN']"
      ],
      "metadata": {
        "id": "LvpqTrL_kH0_"
      },
      "execution_count": 6,
      "outputs": []
    },
    {
      "cell_type": "code",
      "source": [
        "for word in words:\n",
        "    # есть ли слово в модели?\n",
        "    if word in model_ru:\n",
        "        print(word)\n",
        "        # смотрим на вектор слова (его размерность 300, смотрим на первые 10 чисел)\n",
        "        print(model_ru[word][:10])\n",
        "        # выдаем 10 ближайших соседей слова:\n",
        "        for i in model_ru.most_similar(positive=[word], topn=10):\n",
        "            # слово + коэффициент косинусной близости\n",
        "            print(i[0], i[1])\n",
        "        print('\\n')\n",
        "    else:\n",
        "        # Увы!\n",
        "        print('Увы, слова \"%s\" нет в модели!' % word)"
      ],
      "metadata": {
        "colab": {
          "base_uri": "https://localhost:8080/"
        },
        "id": "gh7ajsHZkODu",
        "outputId": "ddb1bcce-82c7-45d0-e63f-d61f9e8bb39d"
      },
      "execution_count": 7,
      "outputs": [
        {
          "output_type": "stream",
          "name": "stdout",
          "text": [
            "день_NOUN\n",
            "[ 1.607006    0.88105875 -0.90222335  0.1547316   2.5412288  -0.7520914\n",
            "  1.7317989   0.5731876  -2.1542902  -2.353275  ]\n",
            "неделя_NOUN 0.767143726348877\n",
            "месяц_NOUN 0.7355299592018127\n",
            "утро_NOUN 0.6559638381004333\n",
            "час_NOUN 0.6324191689491272\n",
            "ночь_NOUN 0.5809687972068787\n",
            "сутки_NOUN 0.5776057243347168\n",
            "вечер_NOUN 0.5675091743469238\n",
            "минута_NOUN 0.548324465751648\n",
            "день»_PROPN 0.5270609259605408\n",
            "денька_NOUN 0.515771210193634\n",
            "\n",
            "\n",
            "ночь_NOUN\n",
            "[-1.9102603  -1.5677836   0.5107194   0.7136092  -1.7047127  -4.622845\n",
            "  3.485842    1.2509006   0.04754175 -1.8432467 ]\n",
            "вечер_NOUN 0.7615349292755127\n",
            "утро_NOUN 0.7531794309616089\n",
            "рассвет_NOUN 0.727114737033844\n",
            "полночь_NOUN 0.6713059544563293\n",
            "полдень_NOUN 0.6476588249206543\n",
            "сумерки_NOUN 0.60179603099823\n",
            "утр_NOUN 0.5851607322692871\n",
            "день_NOUN 0.5809688568115234\n",
            "темнота_NOUN 0.5586055517196655\n",
            "ночной_ADJ 0.5421528220176697\n",
            "\n",
            "\n",
            "человек_NOUN\n",
            "[-3.8098485   2.7259772   1.1949589  -1.3183012   2.5352347  -1.1812418\n",
            "  0.43386376 -0.49407318 -2.751272   -3.2406285 ]\n",
            "житель_NOUN 0.611152172088623\n",
            "женщина_NOUN 0.5880182385444641\n",
            "мужчина_NOUN 0.5467938184738159\n",
            "душа_NOUN 0.5095201730728149\n",
            "более_ADV 0.49628716707229614\n",
            "население_NOUN 0.4762383997440338\n",
            "человеческий_ADJ 0.4728815257549286\n",
            "солдат_NOUN 0.4657357335090637\n",
            "пациент_NOUN 0.4500826597213745\n",
            "ребенок_NOUN 0.4453369081020355\n",
            "\n",
            "\n",
            "семантика_NOUN\n",
            "[ 0.8795417  -0.24299768  0.48081356 -0.49417803  3.1144907   0.74110126\n",
            " -0.69421816 -1.0950029   4.286728    0.7727813 ]\n",
            "семантический_ADJ 0.7910400032997131\n",
            "синтаксический_ADJ 0.7384093403816223\n",
            "синтаксис_NOUN 0.7115976810455322\n",
            "семантика_PROPN 0.6700522899627686\n",
            "референция_NOUN 0.6674174666404724\n",
            "лингвистический_ADJ 0.6506384015083313\n",
            "грамматический_ADJ 0.6489705443382263\n",
            "диахронический_ADJ 0.6474006772041321\n",
            "предикативный_ADJ 0.6456334590911865\n",
            "смысловой_ADJ 0.6449254155158997\n",
            "\n",
            "\n",
            "Увы, слова \"биткоин_NOUN\" нет в модели!\n"
          ]
        }
      ]
    },
    {
      "cell_type": "code",
      "source": [
        "print(model_ru.similarity('снег_NOUN', 'тротуар_NOUN'))"
      ],
      "metadata": {
        "colab": {
          "base_uri": "https://localhost:8080/"
        },
        "id": "CPrkSMjDmKJn",
        "outputId": "5cca3ed4-b08f-4082-d10e-4a4169a89ff4"
      },
      "execution_count": 8,
      "outputs": [
        {
          "output_type": "stream",
          "name": "stdout",
          "text": [
            "0.400761\n"
          ]
        }
      ]
    },
    {
      "cell_type": "code",
      "source": [
        "# Обучаем свою модель"
      ],
      "metadata": {
        "id": "v1jgQIOFmuXj"
      },
      "execution_count": null,
      "outputs": []
    },
    {
      "cell_type": "code",
      "source": [
        "# Переписываем данные в текстовый файл\n",
        "with open('comments.txt', 'a', encoding='utf-8') as file:\n",
        "  with open('posts_spb_today.csv', 'r', encoding='utf-8') as data:\n",
        "    for row in data:\n",
        "      file.write(row)"
      ],
      "metadata": {
        "id": "Qq43pUIBzu9w"
      },
      "execution_count": 9,
      "outputs": []
    },
    {
      "cell_type": "code",
      "source": [
        "# Подчищаем файл\n",
        "with open('comments.txt') as f:\n",
        "    data = ''.join(i for i in f.read() if not i.isdigit())\n",
        "\n",
        "with open('comments.txt', 'w') as f:\n",
        "    f.write(data)"
      ],
      "metadata": {
        "id": "GU3nQvoI4rhQ"
      },
      "execution_count": 10,
      "outputs": []
    },
    {
      "cell_type": "code",
      "source": [
        "# Преобразуем текст в список из списков слов для каждого предложения [[Слово_1, Слово_2,...],[Слово_1, Слово_2,...],...]\n",
        "with open(\"comments.txt\", 'r', encoding='utf-8') as f:\n",
        "    text = f.read()\n",
        "\n",
        "text = re.sub('\\n', ' ', text)\n",
        "sents = sent_tokenize(text)\n",
        "\n",
        "punct = '!\"#$%&()*+,-./:;<=>?@[\\]^_`{|}~„“«»†*—/\\-‘’'\n",
        "clean_sents = []\n",
        "\n",
        "for sent in sents:\n",
        "    s = [w.lower().strip(punct) for w in sent.split()]\n",
        "    clean_sents.append(s)\n",
        "\n",
        "print(clean_sents[:2])"
      ],
      "metadata": {
        "colab": {
          "base_uri": "https://localhost:8080/"
        },
        "id": "NqN5kdNGptlL",
        "outputId": "ad566482-ca61-4246-d72b-53ddf6afc85e"
      },
      "execution_count": 11,
      "outputs": [
        {
          "output_type": "stream",
          "name": "stdout",
          "text": [
            "[['date;text;id;link', '', 'в', 'санкт-петербурге', 'продолжается', 'расследование', 'уголовного', 'дела', 'возбужденного', 'по', 'факту', 'массового', 'убийства', 'мирных', 'граждан', 'в', 'годы', 'великой', 'отечественной', 'войныв', 'рамках', 'работы', 'проводимой', 'сотрудниками', 'гсу', 'ск', 'россии', 'по', 'г', 'санкт-петербургу', 'по', 'установлению', 'преступлений', 'совершенных', 'немецко-фашистскими', 'захватчиками', 'в', 'период', 'оккупации', 'ленинграда', 'в', '', 'гг', 'во', 'взаимодействии', 'с', 'сотрудниками', 'центрального', 'государственного', 'архива', 'санкт-петербурга', 'были', 'получены', 'копии', 'архивных', 'документов', 'изданные', 'в', 'городе', 'павловске', 'пушкинского', 'района', 'во', 'время', 'великой', 'отечественной', 'войны', 'немецкими', 'оккупационными', 'властями'], ['в', 'указанных', 'документах', 'фиксировались', 'факты', 'расстрелов', 'гражданского', 'населения', 'машинописным', 'текстом', 'с', 'рукописными', 'подписями', 'исполнителей']]\n"
          ]
        }
      ]
    },
    {
      "cell_type": "code",
      "source": [
        "# Создаём модель\n",
        "from gensim.models import Word2Vec\n",
        "\n",
        "model = Word2Vec(clean_sents, vector_size = 10, window=5,min_count = 1)"
      ],
      "metadata": {
        "id": "YkVDsYGJvc39"
      },
      "execution_count": 12,
      "outputs": []
    },
    {
      "cell_type": "code",
      "source": [
        "# Загружаем данные для обучения\n",
        "data = pd.read_csv(\"posts_spb_today.csv\", delimiter=\";\")\n",
        "\n",
        "len(data)"
      ],
      "metadata": {
        "colab": {
          "base_uri": "https://localhost:8080/"
        },
        "id": "4r59M38688T3",
        "outputId": "51e0f395-b8fc-4b0f-8f08-153f8173addf"
      },
      "execution_count": 13,
      "outputs": [
        {
          "output_type": "execute_result",
          "data": {
            "text/plain": [
              "8392"
            ]
          },
          "metadata": {},
          "execution_count": 13
        }
      ]
    },
    {
      "cell_type": "code",
      "source": [
        "data.head()"
      ],
      "metadata": {
        "colab": {
          "base_uri": "https://localhost:8080/",
          "height": 206
        },
        "id": "h7h9mm1A9kaK",
        "outputId": "6ba544f8-77e9-4672-d041-47d9817f613e"
      },
      "execution_count": 14,
      "outputs": [
        {
          "output_type": "execute_result",
          "data": {
            "text/plain": [
              "   Unnamed: 0                 date  \\\n",
              "0           0  2023-11-21 14:47:17   \n",
              "1           1  2023-11-21 14:05:01   \n",
              "2           2  2023-11-21 14:03:04   \n",
              "3           3  2023-11-21 14:00:04   \n",
              "4           4  2023-11-21 13:00:01   \n",
              "\n",
              "                                                text        id link  \n",
              "0  В Санкт-Петербурге продолжается расследование ...  18541310  NaN  \n",
              "1  Водитель Порше обиделсяПредыстория:После перес...  18541140  NaN  \n",
              "2  Мерседес сбил доставщика на электропеде на пер...  18541135  NaN  \n",
              "3  На КАД'е в аэродрома Левашово, произошло жёстк...  18541124  NaN  \n",
              "4  — Данный пост будет интересен тем, у кого в кв...  18541019  NaN  "
            ],
            "text/html": [
              "\n",
              "  <div id=\"df-13746f96-0db5-4302-b703-bf4bb8e4608a\" class=\"colab-df-container\">\n",
              "    <div>\n",
              "<style scoped>\n",
              "    .dataframe tbody tr th:only-of-type {\n",
              "        vertical-align: middle;\n",
              "    }\n",
              "\n",
              "    .dataframe tbody tr th {\n",
              "        vertical-align: top;\n",
              "    }\n",
              "\n",
              "    .dataframe thead th {\n",
              "        text-align: right;\n",
              "    }\n",
              "</style>\n",
              "<table border=\"1\" class=\"dataframe\">\n",
              "  <thead>\n",
              "    <tr style=\"text-align: right;\">\n",
              "      <th></th>\n",
              "      <th>Unnamed: 0</th>\n",
              "      <th>date</th>\n",
              "      <th>text</th>\n",
              "      <th>id</th>\n",
              "      <th>link</th>\n",
              "    </tr>\n",
              "  </thead>\n",
              "  <tbody>\n",
              "    <tr>\n",
              "      <th>0</th>\n",
              "      <td>0</td>\n",
              "      <td>2023-11-21 14:47:17</td>\n",
              "      <td>В Санкт-Петербурге продолжается расследование ...</td>\n",
              "      <td>18541310</td>\n",
              "      <td>NaN</td>\n",
              "    </tr>\n",
              "    <tr>\n",
              "      <th>1</th>\n",
              "      <td>1</td>\n",
              "      <td>2023-11-21 14:05:01</td>\n",
              "      <td>Водитель Порше обиделсяПредыстория:После перес...</td>\n",
              "      <td>18541140</td>\n",
              "      <td>NaN</td>\n",
              "    </tr>\n",
              "    <tr>\n",
              "      <th>2</th>\n",
              "      <td>2</td>\n",
              "      <td>2023-11-21 14:03:04</td>\n",
              "      <td>Мерседес сбил доставщика на электропеде на пер...</td>\n",
              "      <td>18541135</td>\n",
              "      <td>NaN</td>\n",
              "    </tr>\n",
              "    <tr>\n",
              "      <th>3</th>\n",
              "      <td>3</td>\n",
              "      <td>2023-11-21 14:00:04</td>\n",
              "      <td>На КАД'е в аэродрома Левашово, произошло жёстк...</td>\n",
              "      <td>18541124</td>\n",
              "      <td>NaN</td>\n",
              "    </tr>\n",
              "    <tr>\n",
              "      <th>4</th>\n",
              "      <td>4</td>\n",
              "      <td>2023-11-21 13:00:01</td>\n",
              "      <td>— Данный пост будет интересен тем, у кого в кв...</td>\n",
              "      <td>18541019</td>\n",
              "      <td>NaN</td>\n",
              "    </tr>\n",
              "  </tbody>\n",
              "</table>\n",
              "</div>\n",
              "    <div class=\"colab-df-buttons\">\n",
              "\n",
              "  <div class=\"colab-df-container\">\n",
              "    <button class=\"colab-df-convert\" onclick=\"convertToInteractive('df-13746f96-0db5-4302-b703-bf4bb8e4608a')\"\n",
              "            title=\"Convert this dataframe to an interactive table.\"\n",
              "            style=\"display:none;\">\n",
              "\n",
              "  <svg xmlns=\"http://www.w3.org/2000/svg\" height=\"24px\" viewBox=\"0 -960 960 960\">\n",
              "    <path d=\"M120-120v-720h720v720H120Zm60-500h600v-160H180v160Zm220 220h160v-160H400v160Zm0 220h160v-160H400v160ZM180-400h160v-160H180v160Zm440 0h160v-160H620v160ZM180-180h160v-160H180v160Zm440 0h160v-160H620v160Z\"/>\n",
              "  </svg>\n",
              "    </button>\n",
              "\n",
              "  <style>\n",
              "    .colab-df-container {\n",
              "      display:flex;\n",
              "      gap: 12px;\n",
              "    }\n",
              "\n",
              "    .colab-df-convert {\n",
              "      background-color: #E8F0FE;\n",
              "      border: none;\n",
              "      border-radius: 50%;\n",
              "      cursor: pointer;\n",
              "      display: none;\n",
              "      fill: #1967D2;\n",
              "      height: 32px;\n",
              "      padding: 0 0 0 0;\n",
              "      width: 32px;\n",
              "    }\n",
              "\n",
              "    .colab-df-convert:hover {\n",
              "      background-color: #E2EBFA;\n",
              "      box-shadow: 0px 1px 2px rgba(60, 64, 67, 0.3), 0px 1px 3px 1px rgba(60, 64, 67, 0.15);\n",
              "      fill: #174EA6;\n",
              "    }\n",
              "\n",
              "    .colab-df-buttons div {\n",
              "      margin-bottom: 4px;\n",
              "    }\n",
              "\n",
              "    [theme=dark] .colab-df-convert {\n",
              "      background-color: #3B4455;\n",
              "      fill: #D2E3FC;\n",
              "    }\n",
              "\n",
              "    [theme=dark] .colab-df-convert:hover {\n",
              "      background-color: #434B5C;\n",
              "      box-shadow: 0px 1px 3px 1px rgba(0, 0, 0, 0.15);\n",
              "      filter: drop-shadow(0px 1px 2px rgba(0, 0, 0, 0.3));\n",
              "      fill: #FFFFFF;\n",
              "    }\n",
              "  </style>\n",
              "\n",
              "    <script>\n",
              "      const buttonEl =\n",
              "        document.querySelector('#df-13746f96-0db5-4302-b703-bf4bb8e4608a button.colab-df-convert');\n",
              "      buttonEl.style.display =\n",
              "        google.colab.kernel.accessAllowed ? 'block' : 'none';\n",
              "\n",
              "      async function convertToInteractive(key) {\n",
              "        const element = document.querySelector('#df-13746f96-0db5-4302-b703-bf4bb8e4608a');\n",
              "        const dataTable =\n",
              "          await google.colab.kernel.invokeFunction('convertToInteractive',\n",
              "                                                    [key], {});\n",
              "        if (!dataTable) return;\n",
              "\n",
              "        const docLinkHtml = 'Like what you see? Visit the ' +\n",
              "          '<a target=\"_blank\" href=https://colab.research.google.com/notebooks/data_table.ipynb>data table notebook</a>'\n",
              "          + ' to learn more about interactive tables.';\n",
              "        element.innerHTML = '';\n",
              "        dataTable['output_type'] = 'display_data';\n",
              "        await google.colab.output.renderOutput(dataTable, element);\n",
              "        const docLink = document.createElement('div');\n",
              "        docLink.innerHTML = docLinkHtml;\n",
              "        element.appendChild(docLink);\n",
              "      }\n",
              "    </script>\n",
              "  </div>\n",
              "\n",
              "\n",
              "<div id=\"df-e676da46-12fb-4e3f-b539-c0dcc222fc4d\">\n",
              "  <button class=\"colab-df-quickchart\" onclick=\"quickchart('df-e676da46-12fb-4e3f-b539-c0dcc222fc4d')\"\n",
              "            title=\"Suggest charts\"\n",
              "            style=\"display:none;\">\n",
              "\n",
              "<svg xmlns=\"http://www.w3.org/2000/svg\" height=\"24px\"viewBox=\"0 0 24 24\"\n",
              "     width=\"24px\">\n",
              "    <g>\n",
              "        <path d=\"M19 3H5c-1.1 0-2 .9-2 2v14c0 1.1.9 2 2 2h14c1.1 0 2-.9 2-2V5c0-1.1-.9-2-2-2zM9 17H7v-7h2v7zm4 0h-2V7h2v10zm4 0h-2v-4h2v4z\"/>\n",
              "    </g>\n",
              "</svg>\n",
              "  </button>\n",
              "\n",
              "<style>\n",
              "  .colab-df-quickchart {\n",
              "      --bg-color: #E8F0FE;\n",
              "      --fill-color: #1967D2;\n",
              "      --hover-bg-color: #E2EBFA;\n",
              "      --hover-fill-color: #174EA6;\n",
              "      --disabled-fill-color: #AAA;\n",
              "      --disabled-bg-color: #DDD;\n",
              "  }\n",
              "\n",
              "  [theme=dark] .colab-df-quickchart {\n",
              "      --bg-color: #3B4455;\n",
              "      --fill-color: #D2E3FC;\n",
              "      --hover-bg-color: #434B5C;\n",
              "      --hover-fill-color: #FFFFFF;\n",
              "      --disabled-bg-color: #3B4455;\n",
              "      --disabled-fill-color: #666;\n",
              "  }\n",
              "\n",
              "  .colab-df-quickchart {\n",
              "    background-color: var(--bg-color);\n",
              "    border: none;\n",
              "    border-radius: 50%;\n",
              "    cursor: pointer;\n",
              "    display: none;\n",
              "    fill: var(--fill-color);\n",
              "    height: 32px;\n",
              "    padding: 0;\n",
              "    width: 32px;\n",
              "  }\n",
              "\n",
              "  .colab-df-quickchart:hover {\n",
              "    background-color: var(--hover-bg-color);\n",
              "    box-shadow: 0 1px 2px rgba(60, 64, 67, 0.3), 0 1px 3px 1px rgba(60, 64, 67, 0.15);\n",
              "    fill: var(--button-hover-fill-color);\n",
              "  }\n",
              "\n",
              "  .colab-df-quickchart-complete:disabled,\n",
              "  .colab-df-quickchart-complete:disabled:hover {\n",
              "    background-color: var(--disabled-bg-color);\n",
              "    fill: var(--disabled-fill-color);\n",
              "    box-shadow: none;\n",
              "  }\n",
              "\n",
              "  .colab-df-spinner {\n",
              "    border: 2px solid var(--fill-color);\n",
              "    border-color: transparent;\n",
              "    border-bottom-color: var(--fill-color);\n",
              "    animation:\n",
              "      spin 1s steps(1) infinite;\n",
              "  }\n",
              "\n",
              "  @keyframes spin {\n",
              "    0% {\n",
              "      border-color: transparent;\n",
              "      border-bottom-color: var(--fill-color);\n",
              "      border-left-color: var(--fill-color);\n",
              "    }\n",
              "    20% {\n",
              "      border-color: transparent;\n",
              "      border-left-color: var(--fill-color);\n",
              "      border-top-color: var(--fill-color);\n",
              "    }\n",
              "    30% {\n",
              "      border-color: transparent;\n",
              "      border-left-color: var(--fill-color);\n",
              "      border-top-color: var(--fill-color);\n",
              "      border-right-color: var(--fill-color);\n",
              "    }\n",
              "    40% {\n",
              "      border-color: transparent;\n",
              "      border-right-color: var(--fill-color);\n",
              "      border-top-color: var(--fill-color);\n",
              "    }\n",
              "    60% {\n",
              "      border-color: transparent;\n",
              "      border-right-color: var(--fill-color);\n",
              "    }\n",
              "    80% {\n",
              "      border-color: transparent;\n",
              "      border-right-color: var(--fill-color);\n",
              "      border-bottom-color: var(--fill-color);\n",
              "    }\n",
              "    90% {\n",
              "      border-color: transparent;\n",
              "      border-bottom-color: var(--fill-color);\n",
              "    }\n",
              "  }\n",
              "</style>\n",
              "\n",
              "  <script>\n",
              "    async function quickchart(key) {\n",
              "      const quickchartButtonEl =\n",
              "        document.querySelector('#' + key + ' button');\n",
              "      quickchartButtonEl.disabled = true;  // To prevent multiple clicks.\n",
              "      quickchartButtonEl.classList.add('colab-df-spinner');\n",
              "      try {\n",
              "        const charts = await google.colab.kernel.invokeFunction(\n",
              "            'suggestCharts', [key], {});\n",
              "      } catch (error) {\n",
              "        console.error('Error during call to suggestCharts:', error);\n",
              "      }\n",
              "      quickchartButtonEl.classList.remove('colab-df-spinner');\n",
              "      quickchartButtonEl.classList.add('colab-df-quickchart-complete');\n",
              "    }\n",
              "    (() => {\n",
              "      let quickchartButtonEl =\n",
              "        document.querySelector('#df-e676da46-12fb-4e3f-b539-c0dcc222fc4d button');\n",
              "      quickchartButtonEl.style.display =\n",
              "        google.colab.kernel.accessAllowed ? 'block' : 'none';\n",
              "    })();\n",
              "  </script>\n",
              "</div>\n",
              "    </div>\n",
              "  </div>\n"
            ]
          },
          "metadata": {},
          "execution_count": 14
        }
      ]
    },
    {
      "cell_type": "code",
      "source": [
        "# Функции для очистки датасета\n",
        "\n",
        "tokenizer = nltk.data.load('tokenizers/punkt/russian.pickle')\n",
        "\n",
        "def review_to_wordlist(review, remove_stopwords=False ):\n",
        "    # убираем ссылки вне тегов\n",
        "    review = re.sub(r\"http[s]?://(?:[f-zA-Z]|[0-9]|[$-_@.&+]|[!*\\(\\),]|(?:%[0-9a-fA-F][0-9a-fA-F]))+\", \" \", review)\n",
        "    review_text = BeautifulSoup(review, \"lxml\").get_text()\n",
        "    review_text = re.sub(\"[^а-яА-Я]\",\" \", review_text)\n",
        "    words = review_text.lower().split()\n",
        "    if remove_stopwords:\n",
        "        stops = stopwords.words(\"russian\")\n",
        "        words = [w for w in words if not w in stops]\n",
        "    return(words)\n",
        "\n",
        "def review_to_sentences(review, tokenizer, remove_stopwords=False):\n",
        "    raw_sentences = tokenizer.tokenize(review.strip())\n",
        "    sentences = []\n",
        "    for raw_sentence in raw_sentences:\n",
        "        if len(raw_sentence) > 0:\n",
        "            sentences.append(review_to_wordlist(raw_sentence, remove_stopwords))\n",
        "    return sentences"
      ],
      "metadata": {
        "id": "N5JSGzJP9o0C"
      },
      "execution_count": 15,
      "outputs": []
    },
    {
      "cell_type": "code",
      "source": [
        "#logging.basicConfig(format='%(asctime)s : %(levelname)s : %(message)s', level=logging.INFO)\n",
        "\n",
        "sentences = []\n",
        "\n",
        "print(\"Parsing sentences from training set...\")\n",
        "for review in data[\"text\"]:\n",
        "    sentences += review_to_sentences(review, tokenizer)"
      ],
      "metadata": {
        "colab": {
          "base_uri": "https://localhost:8080/"
        },
        "id": "Fd6V3pAH92DO",
        "outputId": "2d626d05-929b-45d7-869e-25f522c58487"
      },
      "execution_count": 16,
      "outputs": [
        {
          "output_type": "stream",
          "name": "stdout",
          "text": [
            "Parsing sentences from training set...\n"
          ]
        },
        {
          "output_type": "stream",
          "name": "stderr",
          "text": [
            "<ipython-input-15-075fad4dee11>:6: MarkupResemblesLocatorWarning: The input looks more like a filename than markup. You may want to open this file and pass the filehandle into Beautiful Soup.\n",
            "  review_text = BeautifulSoup(review, \"lxml\").get_text()\n",
            "<ipython-input-15-075fad4dee11>:6: MarkupResemblesLocatorWarning: The input looks more like a URL than markup. You may want to use an HTTP client like requests to get the document behind the URL, and feed that document to Beautiful Soup.\n",
            "  review_text = BeautifulSoup(review, \"lxml\").get_text()\n"
          ]
        }
      ]
    },
    {
      "cell_type": "code",
      "source": [
        "print(len(sentences))\n",
        "print(sentences[0])"
      ],
      "metadata": {
        "colab": {
          "base_uri": "https://localhost:8080/"
        },
        "id": "l3fiN-BV-VRp",
        "outputId": "b48151c8-a1cf-4e39-d681-351b900fe195"
      },
      "execution_count": 17,
      "outputs": [
        {
          "output_type": "stream",
          "name": "stdout",
          "text": [
            "26002\n",
            "['в', 'санкт', 'петербурге', 'продолжается', 'расследование', 'уголовного', 'дела', 'возбужденного', 'по', 'факту', 'массового', 'убийства', 'мирных', 'граждан', 'в', 'годы', 'великой', 'отечественной', 'войныв', 'рамках', 'работы', 'проводимой', 'сотрудниками', 'гсу', 'ск', 'россии', 'по', 'г', 'санкт', 'петербургу', 'по', 'установлению', 'преступлений', 'совершенных', 'немецко', 'фашистскими', 'захватчиками', 'в', 'период', 'оккупации', 'ленинграда', 'в', 'гг', 'во', 'взаимодействии', 'с', 'сотрудниками', 'центрального', 'государственного', 'архива', 'санкт', 'петербурга', 'были', 'получены', 'копии', 'архивных', 'документов', 'изданные', 'в', 'городе', 'павловске', 'пушкинского', 'района', 'во', 'время', 'великой', 'отечественной', 'войны', 'немецкими', 'оккупационными', 'властями']\n"
          ]
        }
      ]
    },
    {
      "cell_type": "code",
      "source": [
        "# Тренировка модели\n",
        "print(\"Training model...\")\n",
        "\n",
        "%time model_comments = word2vec.Word2Vec(sentences, workers=4, vector_size=300, min_count=10, window=10, sample=1e-3)"
      ],
      "metadata": {
        "colab": {
          "base_uri": "https://localhost:8080/"
        },
        "id": "3s_4A2n6_IBL",
        "outputId": "c717ec52-42c8-4fb6-c8e8-36993665e8e2"
      },
      "execution_count": 18,
      "outputs": [
        {
          "output_type": "stream",
          "name": "stdout",
          "text": [
            "Training model...\n",
            "CPU times: user 4.9 s, sys: 36.5 ms, total: 4.94 s\n",
            "Wall time: 3.82 s\n"
          ]
        }
      ]
    },
    {
      "cell_type": "code",
      "source": [
        "print(len(model_comments.wv.key_to_index))"
      ],
      "metadata": {
        "colab": {
          "base_uri": "https://localhost:8080/"
        },
        "id": "SgdY2-m3_Tqv",
        "outputId": "86f30deb-ca3b-467f-f354-a06acdff651a"
      },
      "execution_count": 19,
      "outputs": [
        {
          "output_type": "stream",
          "name": "stdout",
          "text": [
            "4064\n"
          ]
        }
      ]
    },
    {
      "cell_type": "code",
      "source": [
        "# Проверка модели\n",
        "model_comments.wv.similarity('снег', 'тротуар')"
      ],
      "metadata": {
        "colab": {
          "base_uri": "https://localhost:8080/"
        },
        "id": "JTXge-RMc6rr",
        "outputId": "effa446d-6693-43fe-9d0f-40b53f0f09f8"
      },
      "execution_count": null,
      "outputs": [
        {
          "output_type": "execute_result",
          "data": {
            "text/plain": [
              "0.9607089"
            ]
          },
          "metadata": {},
          "execution_count": 21
        }
      ]
    },
    {
      "cell_type": "code",
      "source": [
        "# Загрузка даных для дообучения\n",
        "train_data = pd.read_csv(\"total_reports.csv\", delimiter=\";\")\n",
        "\n",
        "train_data.dropna(subset='Текст', inplace=True)\n",
        "len(train_data)\n",
        "train_data['Текст'].head(1045)"
      ],
      "metadata": {
        "id": "-ZIa3njLdagC",
        "colab": {
          "base_uri": "https://localhost:8080/"
        },
        "outputId": "ff016c34-7048-4534-be20-102e07244406"
      },
      "execution_count": 20,
      "outputs": [
        {
          "output_type": "execute_result",
          "data": {
            "text/plain": [
              "0       Тоже поздравляю всех мужчин нашего района 😊 От...\n",
              "1       У нас вообще заклеили скотчем спи...дил Батаре...\n",
              "2       Добрый день, вроде бы праздник сегодня, но поч...\n",
              "3       Доброе утро! Сегодня 23 февраля. Жкс2 снова вс...\n",
              "4       [id4346392:bp-145945152_963|Тамара], нужно у С...\n",
              "                              ...                        \n",
              "1040    Добрый день! Когда у нас будут ЖК выполнять св...\n",
              "1042    Добрый вечер Уважаемый Александр Дмитриевич , ...\n",
              "1043            А снег когда уберете? 3 месяца куча лежит\n",
              "1044    [id144340|Ольга], ну некоторые просто или прав...\n",
              "1045    Вычистите дом по адресу ул.Белы Куна дом 20 к....\n",
              "Name: Текст, Length: 1045, dtype: object"
            ]
          },
          "metadata": {},
          "execution_count": 20
        }
      ]
    },
    {
      "cell_type": "code",
      "source": [
        "# Токенизация данных\n",
        "sentences = []\n",
        "\n",
        "print(\"Parsing sentences from training set...\")\n",
        "for review in train_data[\"Текст\"]:\n",
        "  sentences += review_to_sentences(review, tokenizer)"
      ],
      "metadata": {
        "id": "t3gNLVcHeOms",
        "colab": {
          "base_uri": "https://localhost:8080/"
        },
        "outputId": "79751686-0e72-41bb-b1a7-ca58ae4db227"
      },
      "execution_count": 21,
      "outputs": [
        {
          "output_type": "stream",
          "name": "stdout",
          "text": [
            "Parsing sentences from training set...\n"
          ]
        },
        {
          "output_type": "stream",
          "name": "stderr",
          "text": [
            "<ipython-input-15-075fad4dee11>:6: MarkupResemblesLocatorWarning: The input looks more like a filename than markup. You may want to open this file and pass the filehandle into Beautiful Soup.\n",
            "  review_text = BeautifulSoup(review, \"lxml\").get_text()\n",
            "<ipython-input-15-075fad4dee11>:6: MarkupResemblesLocatorWarning: The input looks more like a URL than markup. You may want to use an HTTP client like requests to get the document behind the URL, and feed that document to Beautiful Soup.\n",
            "  review_text = BeautifulSoup(review, \"lxml\").get_text()\n"
          ]
        }
      ]
    },
    {
      "cell_type": "code",
      "source": [
        "# Сохранения модели перед дообучением\n",
        "model_path = \"comments.model\"\n",
        "\n",
        "print(\"Saving model...\")\n",
        "model_comments.save(model_path)"
      ],
      "metadata": {
        "colab": {
          "base_uri": "https://localhost:8080/"
        },
        "id": "ehy39xstzP1A",
        "outputId": "20971acf-8d46-4a70-bd2f-91c6e676d63c"
      },
      "execution_count": 22,
      "outputs": [
        {
          "output_type": "stream",
          "name": "stdout",
          "text": [
            "Saving model...\n"
          ]
        }
      ]
    },
    {
      "cell_type": "code",
      "source": [
        "# Тренировка модели\n",
        "model_trained = gensim.models.Word2Vec.load(model_path)\n",
        "\n",
        "model_trained.build_vocab(clean_sents, update=True)\n",
        "model_trained.train(sentences, total_examples=model_trained.corpus_count, epochs=5)"
      ],
      "metadata": {
        "colab": {
          "base_uri": "https://localhost:8080/"
        },
        "id": "LCH99sMd0YMK",
        "outputId": "7308bea6-d844-4e67-f515-2d3302e787fb"
      },
      "execution_count": 23,
      "outputs": [
        {
          "output_type": "stream",
          "name": "stderr",
          "text": [
            "WARNING:gensim.models.word2vec:Effective 'alpha' higher than previous training cycles\n",
            "WARNING:gensim.models.word2vec:EPOCH 0: supplied example count (82107) did not equal expected count (23939)\n",
            "WARNING:gensim.models.word2vec:EPOCH 1: supplied example count (82107) did not equal expected count (23939)\n",
            "WARNING:gensim.models.word2vec:EPOCH 2: supplied example count (82107) did not equal expected count (23939)\n",
            "WARNING:gensim.models.word2vec:EPOCH 3: supplied example count (82107) did not equal expected count (23939)\n",
            "WARNING:gensim.models.word2vec:EPOCH 4: supplied example count (82107) did not equal expected count (23939)\n"
          ]
        },
        {
          "output_type": "execute_result",
          "data": {
            "text/plain": [
              "(2795787, 5321580)"
            ]
          },
          "metadata": {},
          "execution_count": 23
        }
      ]
    },
    {
      "cell_type": "code",
      "source": [
        "# Проверка модели\n",
        "model_trained.wv.similarity('снег', 'тротуар')"
      ],
      "metadata": {
        "colab": {
          "base_uri": "https://localhost:8080/"
        },
        "id": "ltAmzBeV1zCm",
        "outputId": "1f1b1987-813c-4243-8844-8401f57e09aa"
      },
      "execution_count": 24,
      "outputs": [
        {
          "output_type": "execute_result",
          "data": {
            "text/plain": [
              "0.83836246"
            ]
          },
          "metadata": {},
          "execution_count": 24
        }
      ]
    },
    {
      "cell_type": "code",
      "source": [
        "# Пробуем использовать сразу 2 модели"
      ],
      "metadata": {
        "id": "93vQwySZTuFo"
      },
      "execution_count": null,
      "outputs": []
    },
    {
      "cell_type": "code",
      "source": [
        "static_result = model_ru.similarity('снег_NOUN', 'тротуар_NOUN')\n",
        "\n",
        "custom_result = model_trained.wv.similarity('снег', 'тротуар')\n",
        "\n",
        "semantic_closeness = (static_result + custom_result)/2\n",
        "print(semantic_closeness)\n"
      ],
      "metadata": {
        "colab": {
          "base_uri": "https://localhost:8080/"
        },
        "id": "2O7t94oRTywR",
        "outputId": "9f9793bb-e83d-4dc6-92c3-f1035b507015"
      },
      "execution_count": 25,
      "outputs": [
        {
          "output_type": "stream",
          "name": "stdout",
          "text": [
            "0.6195617318153381\n"
          ]
        }
      ]
    },
    {
      "cell_type": "code",
      "source": [
        "# Достаём пары из графов и оцениваем семантическую близость слов"
      ],
      "metadata": {
        "id": "XfdVYYCY4yOL"
      },
      "execution_count": null,
      "outputs": []
    },
    {
      "cell_type": "code",
      "source": [
        "G = nx.read_graphml('kg.graphml')"
      ],
      "metadata": {
        "id": "zzYlZIRoXsjO"
      },
      "execution_count": 28,
      "outputs": []
    },
    {
      "cell_type": "code",
      "source": [
        "df = nx.to_pandas_edgelist(G)"
      ],
      "metadata": {
        "id": "aVSP-596YKqw"
      },
      "execution_count": 29,
      "outputs": []
    },
    {
      "cell_type": "code",
      "source": [
        "df.head(100)"
      ],
      "metadata": {
        "colab": {
          "base_uri": "https://localhost:8080/",
          "height": 423
        },
        "id": "89SF0sO0LnzW",
        "outputId": "456f5cea-dc15-4392-d490-e717fb722f5f"
      },
      "execution_count": 89,
      "outputs": [
        {
          "output_type": "execute_result",
          "data": {
            "text/plain": [
              "               source                        target          verb\n",
              "0            Мерседес       доставщика  электропеде          сбил\n",
              "1            Мерседес                 сторону  реки     покатился\n",
              "2            Мерседес                      Буграх       загорелся\n",
              "3            Мерседес                         бус          задела\n",
              "4            Мерседес                   проспекте    перевернулся\n",
              "..                ...                           ...           ...\n",
              "95         Задержанны  ответственности  хулиганство   привлекался\n",
              "96          Мошенники                       людей        убеждали\n",
              "97  Фальшивомонетчики                          их       продавали\n",
              "98            Рахимов                     стоянку      осуществил\n",
              "99            Рахимов                    допросах        объяснил\n",
              "\n",
              "[100 rows x 3 columns]"
            ],
            "text/html": [
              "\n",
              "  <div id=\"df-51cf5f47-b72e-4f5f-b528-81904e2e1442\" class=\"colab-df-container\">\n",
              "    <div>\n",
              "<style scoped>\n",
              "    .dataframe tbody tr th:only-of-type {\n",
              "        vertical-align: middle;\n",
              "    }\n",
              "\n",
              "    .dataframe tbody tr th {\n",
              "        vertical-align: top;\n",
              "    }\n",
              "\n",
              "    .dataframe thead th {\n",
              "        text-align: right;\n",
              "    }\n",
              "</style>\n",
              "<table border=\"1\" class=\"dataframe\">\n",
              "  <thead>\n",
              "    <tr style=\"text-align: right;\">\n",
              "      <th></th>\n",
              "      <th>source</th>\n",
              "      <th>target</th>\n",
              "      <th>verb</th>\n",
              "    </tr>\n",
              "  </thead>\n",
              "  <tbody>\n",
              "    <tr>\n",
              "      <th>0</th>\n",
              "      <td>Мерседес</td>\n",
              "      <td>доставщика  электропеде</td>\n",
              "      <td>сбил</td>\n",
              "    </tr>\n",
              "    <tr>\n",
              "      <th>1</th>\n",
              "      <td>Мерседес</td>\n",
              "      <td>сторону  реки</td>\n",
              "      <td>покатился</td>\n",
              "    </tr>\n",
              "    <tr>\n",
              "      <th>2</th>\n",
              "      <td>Мерседес</td>\n",
              "      <td>Буграх</td>\n",
              "      <td>загорелся</td>\n",
              "    </tr>\n",
              "    <tr>\n",
              "      <th>3</th>\n",
              "      <td>Мерседес</td>\n",
              "      <td>бус</td>\n",
              "      <td>задела</td>\n",
              "    </tr>\n",
              "    <tr>\n",
              "      <th>4</th>\n",
              "      <td>Мерседес</td>\n",
              "      <td>проспекте</td>\n",
              "      <td>перевернулся</td>\n",
              "    </tr>\n",
              "    <tr>\n",
              "      <th>...</th>\n",
              "      <td>...</td>\n",
              "      <td>...</td>\n",
              "      <td>...</td>\n",
              "    </tr>\n",
              "    <tr>\n",
              "      <th>95</th>\n",
              "      <td>Задержанны</td>\n",
              "      <td>ответственности  хулиганство</td>\n",
              "      <td>привлекался</td>\n",
              "    </tr>\n",
              "    <tr>\n",
              "      <th>96</th>\n",
              "      <td>Мошенники</td>\n",
              "      <td>людей</td>\n",
              "      <td>убеждали</td>\n",
              "    </tr>\n",
              "    <tr>\n",
              "      <th>97</th>\n",
              "      <td>Фальшивомонетчики</td>\n",
              "      <td>их</td>\n",
              "      <td>продавали</td>\n",
              "    </tr>\n",
              "    <tr>\n",
              "      <th>98</th>\n",
              "      <td>Рахимов</td>\n",
              "      <td>стоянку</td>\n",
              "      <td>осуществил</td>\n",
              "    </tr>\n",
              "    <tr>\n",
              "      <th>99</th>\n",
              "      <td>Рахимов</td>\n",
              "      <td>допросах</td>\n",
              "      <td>объяснил</td>\n",
              "    </tr>\n",
              "  </tbody>\n",
              "</table>\n",
              "<p>100 rows × 3 columns</p>\n",
              "</div>\n",
              "    <div class=\"colab-df-buttons\">\n",
              "\n",
              "  <div class=\"colab-df-container\">\n",
              "    <button class=\"colab-df-convert\" onclick=\"convertToInteractive('df-51cf5f47-b72e-4f5f-b528-81904e2e1442')\"\n",
              "            title=\"Convert this dataframe to an interactive table.\"\n",
              "            style=\"display:none;\">\n",
              "\n",
              "  <svg xmlns=\"http://www.w3.org/2000/svg\" height=\"24px\" viewBox=\"0 -960 960 960\">\n",
              "    <path d=\"M120-120v-720h720v720H120Zm60-500h600v-160H180v160Zm220 220h160v-160H400v160Zm0 220h160v-160H400v160ZM180-400h160v-160H180v160Zm440 0h160v-160H620v160ZM180-180h160v-160H180v160Zm440 0h160v-160H620v160Z\"/>\n",
              "  </svg>\n",
              "    </button>\n",
              "\n",
              "  <style>\n",
              "    .colab-df-container {\n",
              "      display:flex;\n",
              "      gap: 12px;\n",
              "    }\n",
              "\n",
              "    .colab-df-convert {\n",
              "      background-color: #E8F0FE;\n",
              "      border: none;\n",
              "      border-radius: 50%;\n",
              "      cursor: pointer;\n",
              "      display: none;\n",
              "      fill: #1967D2;\n",
              "      height: 32px;\n",
              "      padding: 0 0 0 0;\n",
              "      width: 32px;\n",
              "    }\n",
              "\n",
              "    .colab-df-convert:hover {\n",
              "      background-color: #E2EBFA;\n",
              "      box-shadow: 0px 1px 2px rgba(60, 64, 67, 0.3), 0px 1px 3px 1px rgba(60, 64, 67, 0.15);\n",
              "      fill: #174EA6;\n",
              "    }\n",
              "\n",
              "    .colab-df-buttons div {\n",
              "      margin-bottom: 4px;\n",
              "    }\n",
              "\n",
              "    [theme=dark] .colab-df-convert {\n",
              "      background-color: #3B4455;\n",
              "      fill: #D2E3FC;\n",
              "    }\n",
              "\n",
              "    [theme=dark] .colab-df-convert:hover {\n",
              "      background-color: #434B5C;\n",
              "      box-shadow: 0px 1px 3px 1px rgba(0, 0, 0, 0.15);\n",
              "      filter: drop-shadow(0px 1px 2px rgba(0, 0, 0, 0.3));\n",
              "      fill: #FFFFFF;\n",
              "    }\n",
              "  </style>\n",
              "\n",
              "    <script>\n",
              "      const buttonEl =\n",
              "        document.querySelector('#df-51cf5f47-b72e-4f5f-b528-81904e2e1442 button.colab-df-convert');\n",
              "      buttonEl.style.display =\n",
              "        google.colab.kernel.accessAllowed ? 'block' : 'none';\n",
              "\n",
              "      async function convertToInteractive(key) {\n",
              "        const element = document.querySelector('#df-51cf5f47-b72e-4f5f-b528-81904e2e1442');\n",
              "        const dataTable =\n",
              "          await google.colab.kernel.invokeFunction('convertToInteractive',\n",
              "                                                    [key], {});\n",
              "        if (!dataTable) return;\n",
              "\n",
              "        const docLinkHtml = 'Like what you see? Visit the ' +\n",
              "          '<a target=\"_blank\" href=https://colab.research.google.com/notebooks/data_table.ipynb>data table notebook</a>'\n",
              "          + ' to learn more about interactive tables.';\n",
              "        element.innerHTML = '';\n",
              "        dataTable['output_type'] = 'display_data';\n",
              "        await google.colab.output.renderOutput(dataTable, element);\n",
              "        const docLink = document.createElement('div');\n",
              "        docLink.innerHTML = docLinkHtml;\n",
              "        element.appendChild(docLink);\n",
              "      }\n",
              "    </script>\n",
              "  </div>\n",
              "\n",
              "\n",
              "<div id=\"df-f6d56245-8310-4a5f-b4bd-f3d01cf404cd\">\n",
              "  <button class=\"colab-df-quickchart\" onclick=\"quickchart('df-f6d56245-8310-4a5f-b4bd-f3d01cf404cd')\"\n",
              "            title=\"Suggest charts\"\n",
              "            style=\"display:none;\">\n",
              "\n",
              "<svg xmlns=\"http://www.w3.org/2000/svg\" height=\"24px\"viewBox=\"0 0 24 24\"\n",
              "     width=\"24px\">\n",
              "    <g>\n",
              "        <path d=\"M19 3H5c-1.1 0-2 .9-2 2v14c0 1.1.9 2 2 2h14c1.1 0 2-.9 2-2V5c0-1.1-.9-2-2-2zM9 17H7v-7h2v7zm4 0h-2V7h2v10zm4 0h-2v-4h2v4z\"/>\n",
              "    </g>\n",
              "</svg>\n",
              "  </button>\n",
              "\n",
              "<style>\n",
              "  .colab-df-quickchart {\n",
              "      --bg-color: #E8F0FE;\n",
              "      --fill-color: #1967D2;\n",
              "      --hover-bg-color: #E2EBFA;\n",
              "      --hover-fill-color: #174EA6;\n",
              "      --disabled-fill-color: #AAA;\n",
              "      --disabled-bg-color: #DDD;\n",
              "  }\n",
              "\n",
              "  [theme=dark] .colab-df-quickchart {\n",
              "      --bg-color: #3B4455;\n",
              "      --fill-color: #D2E3FC;\n",
              "      --hover-bg-color: #434B5C;\n",
              "      --hover-fill-color: #FFFFFF;\n",
              "      --disabled-bg-color: #3B4455;\n",
              "      --disabled-fill-color: #666;\n",
              "  }\n",
              "\n",
              "  .colab-df-quickchart {\n",
              "    background-color: var(--bg-color);\n",
              "    border: none;\n",
              "    border-radius: 50%;\n",
              "    cursor: pointer;\n",
              "    display: none;\n",
              "    fill: var(--fill-color);\n",
              "    height: 32px;\n",
              "    padding: 0;\n",
              "    width: 32px;\n",
              "  }\n",
              "\n",
              "  .colab-df-quickchart:hover {\n",
              "    background-color: var(--hover-bg-color);\n",
              "    box-shadow: 0 1px 2px rgba(60, 64, 67, 0.3), 0 1px 3px 1px rgba(60, 64, 67, 0.15);\n",
              "    fill: var(--button-hover-fill-color);\n",
              "  }\n",
              "\n",
              "  .colab-df-quickchart-complete:disabled,\n",
              "  .colab-df-quickchart-complete:disabled:hover {\n",
              "    background-color: var(--disabled-bg-color);\n",
              "    fill: var(--disabled-fill-color);\n",
              "    box-shadow: none;\n",
              "  }\n",
              "\n",
              "  .colab-df-spinner {\n",
              "    border: 2px solid var(--fill-color);\n",
              "    border-color: transparent;\n",
              "    border-bottom-color: var(--fill-color);\n",
              "    animation:\n",
              "      spin 1s steps(1) infinite;\n",
              "  }\n",
              "\n",
              "  @keyframes spin {\n",
              "    0% {\n",
              "      border-color: transparent;\n",
              "      border-bottom-color: var(--fill-color);\n",
              "      border-left-color: var(--fill-color);\n",
              "    }\n",
              "    20% {\n",
              "      border-color: transparent;\n",
              "      border-left-color: var(--fill-color);\n",
              "      border-top-color: var(--fill-color);\n",
              "    }\n",
              "    30% {\n",
              "      border-color: transparent;\n",
              "      border-left-color: var(--fill-color);\n",
              "      border-top-color: var(--fill-color);\n",
              "      border-right-color: var(--fill-color);\n",
              "    }\n",
              "    40% {\n",
              "      border-color: transparent;\n",
              "      border-right-color: var(--fill-color);\n",
              "      border-top-color: var(--fill-color);\n",
              "    }\n",
              "    60% {\n",
              "      border-color: transparent;\n",
              "      border-right-color: var(--fill-color);\n",
              "    }\n",
              "    80% {\n",
              "      border-color: transparent;\n",
              "      border-right-color: var(--fill-color);\n",
              "      border-bottom-color: var(--fill-color);\n",
              "    }\n",
              "    90% {\n",
              "      border-color: transparent;\n",
              "      border-bottom-color: var(--fill-color);\n",
              "    }\n",
              "  }\n",
              "</style>\n",
              "\n",
              "  <script>\n",
              "    async function quickchart(key) {\n",
              "      const quickchartButtonEl =\n",
              "        document.querySelector('#' + key + ' button');\n",
              "      quickchartButtonEl.disabled = true;  // To prevent multiple clicks.\n",
              "      quickchartButtonEl.classList.add('colab-df-spinner');\n",
              "      try {\n",
              "        const charts = await google.colab.kernel.invokeFunction(\n",
              "            'suggestCharts', [key], {});\n",
              "      } catch (error) {\n",
              "        console.error('Error during call to suggestCharts:', error);\n",
              "      }\n",
              "      quickchartButtonEl.classList.remove('colab-df-spinner');\n",
              "      quickchartButtonEl.classList.add('colab-df-quickchart-complete');\n",
              "    }\n",
              "    (() => {\n",
              "      let quickchartButtonEl =\n",
              "        document.querySelector('#df-f6d56245-8310-4a5f-b4bd-f3d01cf404cd button');\n",
              "      quickchartButtonEl.style.display =\n",
              "        google.colab.kernel.accessAllowed ? 'block' : 'none';\n",
              "    })();\n",
              "  </script>\n",
              "</div>\n",
              "    </div>\n",
              "  </div>\n"
            ]
          },
          "metadata": {},
          "execution_count": 89
        }
      ]
    },
    {
      "cell_type": "code",
      "source": [
        "# Функция отбрасывания английских слов\n",
        "def expectlatin(mystring):\n",
        "  result = ''\n",
        "  for i in mystring:\n",
        "    if i not in al:\n",
        "      result += i\n",
        "  if result != '':\n",
        "    return result\n",
        "  else:\n",
        "    return 'абв'\n",
        "\n",
        "# Запись оценки в csv\n",
        "with open('semantic_value.csv', mode='w', encoding='utf-8') as file:\n",
        "  sucess = 0\n",
        "  fail = 0\n",
        "  names = ['source', 'target', 'semantic closeness']\n",
        "\n",
        "  file_writer = csv.DictWriter(file, delimiter = \";\", lineterminator=\"\\r\", fieldnames=names)\n",
        "\n",
        "  for i in range(len(df)):\n",
        "\n",
        "    # список из пары слов\n",
        "    words = [df['source'][i].lower(), df['target'][i].lower()]\n",
        "    # оставляем только буквы\n",
        "    words = [expectlatin(''.join(c for c in word if c.isalpha())) for word in words]\n",
        "    # проверка на наличие слова в модели\n",
        "    for word in words:\n",
        "      # есть ли слово в модели?\n",
        "      if word in model_trained.wv.key_to_index:\n",
        "        check_status = True\n",
        "      else:\n",
        "        fail += 1\n",
        "        check_status = False\n",
        "        # print('Увы, слова \"%s\" нет в модели!' % word)\n",
        "        break\n",
        "    # оценка пар слов\n",
        "    if check_status == True:\n",
        "      sucess += 1\n",
        "      print(words)\n",
        "      # static_result = model_ru.similarity(f\"{word[0]}_NOUN\", f\"{word[1]}_NOUN\")\n",
        "      custom_result = model_trained.wv.similarity(word[0], word[1])\n",
        "      # semantic_closeness = (static_result + custom_result)/2\n",
        "      print(custom_result)\n",
        "      file_writer.writerow({'source': words[0], 'target': words[1], 'semantic closeness': custom_result})\n",
        "\n",
        "\n",
        "  print(f'Успешных оценок: {sucess}')\n",
        "  print(f'Провальных оценок: {fail}')"
      ],
      "metadata": {
        "id": "9RV4MClvWdA_",
        "colab": {
          "base_uri": "https://localhost:8080/"
        },
        "outputId": "7399bbd4-e729-4390-8566-29232998aa6e"
      },
      "execution_count": 121,
      "outputs": [
        {
          "output_type": "stream",
          "name": "stdout",
          "text": [
            "['мерседес', 'буграх']\n",
            "0.029653393\n",
            "['мерседес', 'проспекте']\n",
            "0.671775\n",
            "['мерседес', 'ребенка']\n",
            "0.48111013\n",
            "['легковушка', 'автобус']\n",
            "0.10541714\n",
            "['петербуржец', 'голову']\n",
            "0.44207928\n",
            "['петербуржец', 'месяцев']\n",
            "0.51807183\n",
            "['петербуржец', 'больнице']\n",
            "0.26772082\n",
            "['матиз', 'направлении']\n",
            "0.11520758\n",
            "['фура', 'жд']\n",
            "0.35025305\n",
            "['скорая', 'помощь']\n",
            "0.4898747\n",
            "['ло', 'дома']\n",
            "0.16731389\n",
            "['опель', 'аллее']\n",
            "0.24383055\n",
            "['солярис', 'карш']\n",
            "0.13387494\n",
            "['солярис', 'полосу']\n",
            "0.4898747\n",
            "['солярис', 'скорой']\n",
            "0.13987514\n",
            "['солярис', 'бок']\n",
            "0.26772082\n",
            "['солярис', 'мотоциклиста']\n",
            "0.14983714\n",
            "['солярис', 'транспорт']\n",
            "0.25404608\n",
            "['солярис', 'сампсониевском']\n",
            "0.05072916\n",
            "['солярис', 'мотоцикл']\n",
            "0.14983714\n",
            "['полиция', 'петербуржцу']\n",
            "0.32585424\n",
            "['полиция', 'проверку']\n",
            "0.671775\n",
            "['полиция', 'проверку']\n",
            "0.671775\n",
            "['полиция', 'проверку']\n",
            "0.671775\n",
            "['полиция', 'проверку']\n",
            "0.671775\n",
            "['полиция', 'проверку']\n",
            "0.671775\n",
            "['полиция', 'проверку']\n",
            "0.671775\n",
            "['полиция', 'таксиста']\n",
            "0.2978334\n",
            "['полиция', 'подростков']\n",
            "0.4898747\n",
            "['полиция', 'мать']\n",
            "0.30084038\n",
            "['полиция', 'поджигателя']\n",
            "0.4898747\n",
            "['полиция', 'мужа']\n",
            "0.06759418\n",
            "['полиция', 'преступления']\n",
            "0.671775\n",
            "['полиция', 'информацию']\n",
            "0.1788142\n",
            "['полиция', 'родителей']\n",
            "0.4210025\n",
            "['полиция', 'подозреваемых']\n",
            "0.4898747\n",
            "['машина', 'того']\n",
            "0.17849562\n",
            "['бмв', 'проспекте']\n",
            "0.671775\n",
            "['бмв', 'поребрик']\n",
            "0.4898747\n",
            "['бмв', 'столб']\n",
            "0.19890334\n",
            "['бмв', 'тротуар']\n",
            "0.25404608\n",
            "['бмв', 'паровоз']\n",
            "-0.0012199638\n",
            "['бмв', 'встречку']\n",
            "0.23868887\n",
            "['бмв', 'такси']\n",
            "0.2978334\n",
            "['бмв', 'зеркало']\n",
            "0.5635951\n",
            "['росгвардейцы', 'гражданина']\n",
            "0.806539\n",
            "['росгвардейцы', 'правонарушителя']\n",
            "0.671775\n",
            "['росгвардейцы', 'правонарушителя']\n",
            "0.671775\n",
            "['мошенники', 'людей']\n",
            "0.33575135\n",
            "['пешеход', 'месте']\n",
            "0.51807183\n",
            "['пешеход', 'больницу']\n",
            "0.26772082\n",
            "['форд', 'жертв']\n",
            "0.40916395\n",
            "['пенсионерка', 'мошенников']\n",
            "0.14983714\n",
            "['петербурженка', 'дпс']\n",
            "0.60232425\n",
            "['горожане', 'поводу']\n",
            "0.4898747\n",
            "['техбар', 'обслуживание']\n",
            "0.26772082\n",
            "['техбар', 'обслуживание']\n",
            "0.26772082\n",
            "['техбар', 'вас']\n",
            "0.10541714\n",
            "['петербург', 'рублей']\n",
            "0.022200007\n",
            "['газель', 'дороге']\n",
            "0.16731389\n",
            "['газель', 'машины']\n",
            "0.30084038\n",
            "['соляриса', 'дорогу']\n",
            "0.16731389\n",
            "['порше', 'дворе']\n",
            "-0.041879065\n",
            "['порше', 'такси']\n",
            "0.2978334\n",
            "['камаз', 'ограду']\n",
            "0.44207928\n",
            "['фольксваген', 'ситроен']\n",
            "0.17465448\n",
            "['фольксваген', 'пешехода']\n",
            "0.32585424\n",
            "['фольксваген', 'гаражи']\n",
            "-0.023168923\n",
            "['фольксваген', 'коммуны']\n",
            "0.20886819\n",
            "['пежо', 'автомобилем']\n",
            "0.10541714\n",
            "['пежо', 'фуру']\n",
            "0.026839467\n",
            "['хёндэ', 'подростка']\n",
            "0.4898747\n",
            "['киа', 'стрелку']\n",
            "0.19890334\n",
            "['киа', 'лоб']\n",
            "-0.0088998685\n",
            "['киа', 'софийской']\n",
            "0.29092282\n",
            "['водитель', 'ответственности']\n",
            "0.17849562\n",
            "['ленсовета', 'года']\n",
            "0.44207928\n",
            "['ситроен', 'шкоду']\n",
            "0.29420155\n",
            "['газель', 'путях']\n",
            "-0.08981653\n",
            "['газель', 'светофор']\n",
            "0.23868887\n",
            "['газель', 'его']\n",
            "0.5304193\n",
            "['шкода', 'проспекте']\n",
            "0.671775\n",
            "['хендэ', 'ладу']\n",
            "0.24383055\n",
            "['хендэ', 'тротуар']\n",
            "0.25404608\n",
            "['хендэ', 'проспекте']\n",
            "0.671775\n",
            "['дтп', 'видео']\n",
            "0.34572545\n",
            "['дтп', 'момент']\n",
            "0.14983714\n",
            "['дтп', 'минут']\n",
            "0.26527622\n",
            "['полицейские', 'том']\n",
            "0.17849562\n",
            "['полицейские', 'ней']\n",
            "0.41814154\n",
            "['полицейские', 'организатора']\n",
            "0.4210025\n",
            "['полицейские', 'ситуацию']\n",
            "0.17465448\n",
            "['полицейские', 'их']\n",
            "0.17421135\n",
            "['полицейские', 'его']\n",
            "0.5304193\n",
            "['полицейские', 'ее']\n",
            "1.0\n",
            "['прокуратура', 'проверку']\n",
            "0.671775\n",
            "['прокуратура', 'проверку']\n",
            "0.671775\n",
            "['д', 'его']\n",
            "0.5304193\n",
            "['мчс', 'трассы']\n",
            "0.25404608\n",
            "['пламя', 'двигатель']\n",
            "-0.041879065\n",
            "['тойота', 'пешехода']\n",
            "0.32585424\n",
            "['ниссан', 'шевроле']\n",
            "0.2429132\n",
            "['ниссан', 'площади']\n",
            "0.25943515\n",
            "['злоумышленники', 'интернет']\n",
            "0.1788142\n",
            "['собака', 'воду']\n",
            "0.48800343\n",
            "['марина', 'всех']\n",
            "0.23868887\n",
            "['мазда', 'велосипедиста']\n",
            "0.36457536\n",
            "['мазда', 'дорогу']\n",
            "0.16731389\n",
            "['инфинити', 'полосе']\n",
            "0.4898747\n",
            "['мотоциклист', 'зеленый']\n",
            "0.5635951\n",
            "['мотоциклист', 'полосу']\n",
            "0.4898747\n",
            "['энгельса', 'рельсов']\n",
            "0.48111013\n",
            "['тсж', 'полицию']\n",
            "0.4898747\n",
            "['восстания', 'дверь']\n",
            "-0.041879065\n",
            "['самосвал', 'ограждение']\n",
            "0.44207928\n",
            "['велосипедист', 'дорогу']\n",
            "0.16731389\n",
            "['сузуки', 'ряду']\n",
            "0.20295812\n",
            "['инспектор', 'документы']\n",
            "0.16731389\n",
            "['лексус', 'путях']\n",
            "-0.08981653\n",
            "['автоледи', 'подростка']\n",
            "0.4898747\n",
            "['бизнесмен', 'полицию']\n",
            "0.4898747\n",
            "['каршеринг', 'встречке']\n",
            "0.23868887\n",
            "['каршеринг', 'переулка']\n",
            "0.32585424\n",
            "['каршеринг', 'кювет']\n",
            "0.37452406\n",
            "['мусоровоз', 'лося']\n",
            "-0.0088998685\n",
            "['ауди', 'него']\n",
            "0.41814154\n",
            "['ауди', 'кад']\n",
            "0.13387494\n",
            "['автолюбитель', 'путь']\n",
            "-0.08981653\n",
            "['дама', 'пути']\n",
            "-0.08981653\n",
            "['взрыв', 'видео']\n",
            "0.34572545\n",
            "['мегаполис', 'задержанных']\n",
            "0.15589416\n",
            "['лада', 'скорую']\n",
            "0.13987514\n",
            "['карш', 'пустой']\n",
            "-0.08981653\n",
            "['карш', 'дороги']\n",
            "0.16731389\n",
            "['карш', 'автобус']\n",
            "0.10541714\n",
            "['самокатчик', 'путям']\n",
            "-0.08981653\n",
            "['пробка', 'минут']\n",
            "0.26527622\n",
            "['пробка', 'моста']\n",
            "0.14983714\n",
            "['пожарные', 'минуты']\n",
            "0.26527622\n",
            "['подростки', 'парке']\n",
            "-0.0012199638\n",
            "['подростки', 'ее']\n",
            "1.0\n",
            "['ларгуса', 'митсубиси']\n",
            "0.26527622\n",
            "['аутлендер', 'бухарестской']\n",
            "0.029653393\n",
            "['аутлендер', 'столб']\n",
            "0.19890334\n",
            "['таксист', 'каршеринг']\n",
            "0.13387494\n",
            "['гранта', 'ауди']\n",
            "0.1536192\n",
            "['гибдд', 'кад']\n",
            "0.13387494\n",
            "['ук', 'ничего']\n",
            "0.1788142\n",
            "['кроссовер', 'прицеп']\n",
            "0.671775\n",
            "['следком', 'проверку']\n",
            "0.671775\n",
            "['инспекторы', 'водителя']\n",
            "0.48800343\n",
            "['коллонтай', 'автобус']\n",
            "0.10541714\n",
            "['проезд', 'правой']\n",
            "0.671775\n",
            "['с', 'его']\n",
            "0.5304193\n",
            "Успешных оценок: 154\n",
            "Провальных оценок: 233\n"
          ]
        }
      ]
    }
  ]
}