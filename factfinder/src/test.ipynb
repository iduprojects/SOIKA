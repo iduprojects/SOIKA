{
 "cells": [
  {
   "cell_type": "code",
   "execution_count": null,
   "metadata": {},
   "outputs": [],
   "source": [
    "def get_city_data(city_name):\n",
    "    api = overpy.Overpass()\n",
    "    query = f\"\"\"\n",
    "    area[name=\"{city_name}\"]->.searchArea;\n",
    "    (node(area.searchArea)[\"place\"=\"city\"];\n",
    "     way(area.searchArea)[\"place\"=\"city\"];\n",
    "     relation(area.searchArea)[\"place\"=\"city\"];);\n",
    "    out center;\n",
    "    \"\"\"\n",
    "    result = api.query(query)\n",
    "    return result"
   ]
  }
 ],
 "metadata": {
  "language_info": {
   "name": "python"
  }
 },
 "nbformat": 4,
 "nbformat_minor": 2
}
